{
  "cells": [
    {
      "cell_type": "markdown",
      "metadata": {
        "id": "view-in-github",
        "colab_type": "text"
      },
      "source": [
        "<a href=\"https://colab.research.google.com/github/Fabicca86/plantasBR/blob/main/_MyPlant_classifier.ipynb\" target=\"_parent\"><img src=\"https://colab.research.google.com/assets/colab-badge.svg\" alt=\"Open In Colab\"/></a>"
      ]
    },
    {
      "cell_type": "markdown",
      "source": [
        "# **BEM VIND@**\n",
        "\n",
        "---\n",
        "\n",
        "Este projeto busca criar um modelo de Deep Learning para reconhecimento/classificação, que retorna se uma planta pode ser encontrada na flora nativa brasileira."
      ],
      "metadata": {
        "id": "9b3P8FtbKb1F"
      }
    },
    {
      "cell_type": "markdown",
      "source": [
        "# **Preparação dos Dados**"
      ],
      "metadata": {
        "id": "AkJDFmCzlb9p"
      }
    },
    {
      "cell_type": "code",
      "source": [
        "import numpy as np\n",
        "#from tensorflow.keras.datasets import mnist linha removida\n",
        "import tensorflow as tf\n",
        "import os #linha add para ler meu dataset"
      ],
      "metadata": {
        "id": "L732QDWgqkPa"
      },
      "execution_count": null,
      "outputs": []
    },
    {
      "cell_type": "code",
      "source": [
        "cpus = tf.config.experimental.list_physical_devices('CPU')\n",
        "#gpus = tf.config.experimental.list_physical_devices('GPU')\n",
        "print(cpus)\n",
        "#print(gpus)"
      ],
      "metadata": {
        "colab": {
          "base_uri": "https://localhost:8080/"
        },
        "id": "UjrrSxqOX0J-",
        "outputId": "f96c8704-34a1-427d-d106-74b92c7aa241"
      },
      "execution_count": null,
      "outputs": [
        {
          "output_type": "stream",
          "name": "stdout",
          "text": [
            "[PhysicalDevice(name='/physical_device:CPU:0', device_type='CPU')]\n"
          ]
        }
      ]
    },
    {
      "cell_type": "code",
      "source": [
        "#ERRO: MAS DIZEM Q NÃO PRECISA for cpu in cpus: #dizendoo ao tensor para limitar o usoo de memoria, usar só o necessário\n",
        "  #tf.config.experimental.set_memory_growth(cpu,True)"
      ],
      "metadata": {
        "id": "qHwmO3yOvJLP"
      },
      "execution_count": null,
      "outputs": []
    },
    {
      "cell_type": "markdown",
      "source": [
        "###CRIANDO DATASET DO ZERO  \n",
        "Em caso de estarmos criando um dataset do zero com imagens da internet, por exemplo google, podemos fazer uma pesquisa por imagens e com a extensão: download all images .zip  \n",
        "Depois de baixados criamos a nossa pasta para continuarmos daqui\n",
        "## TRATANDO AS IMAGENS  \n",
        "#Removendo imagens duvidosas  \n",
        "Precisamos ter certeza de que não temos imagens com estensão errada, corrompidas ou mau etiquetadas (não são, por exemplo, plantas e sim planta dos pés)   \n",
        "Vamos excluir manualmente tudo que for menor que 10kb, estranho tipo html, exe, etc.\n"
      ],
      "metadata": {
        "id": "DpU2OEsSfZ4G"
      }
    },
    {
      "cell_type": "code",
      "source": [
        "from google.colab import drive\n",
        "drive.mount('/content/drive')"
      ],
      "metadata": {
        "colab": {
          "base_uri": "https://localhost:8080/"
        },
        "id": "f7tQq_AbnStf",
        "outputId": "743e502e-0872-4cc9-a296-8c4f42b06638"
      },
      "execution_count": null,
      "outputs": [
        {
          "output_type": "stream",
          "name": "stdout",
          "text": [
            "Mounted at /content/drive\n"
          ]
        }
      ]
    },
    {
      "cell_type": "code",
      "source": [
        "#criando o diretorio p salvar as img\n",
        "!mkdir -p '/content/drive/MyDrive/data'\n",
        "\n"
      ],
      "metadata": {
        "id": "lLAEBpJZoQrg"
      },
      "execution_count": null,
      "outputs": []
    },
    {
      "cell_type": "code",
      "source": [
        "import cv2\n",
        "import imghdr\n",
        "import matplotlib.pyplot as plt\n",
        "#from matplotlib import pyplot as plt\n"
      ],
      "metadata": {
        "id": "Ahx9vP-vfYiC",
        "colab": {
          "base_uri": "https://localhost:8080/"
        },
        "outputId": "aa061fb5-3bdd-4ed3-d8f2-fb80acc37bd8"
      },
      "execution_count": null,
      "outputs": [
        {
          "output_type": "stream",
          "name": "stdout",
          "text": [
            "wget: missing URL\n",
            "Usage: wget [OPTION]... [URL]...\n",
            "\n",
            "Try `wget --help' for more options.\n"
          ]
        }
      ]
    },
    {
      "cell_type": "code",
      "source": [
        "#criando a variável path para nosso diretório\n",
        "data_dir='data'"
      ],
      "metadata": {
        "id": "zziWGK_NYlCc"
      },
      "execution_count": null,
      "outputs": []
    },
    {
      "cell_type": "code",
      "source": [
        "#verificandoo se chamamos o diretório correto, deve conter nossos classificadores exp: planta brasileira ou importadas(não)\n",
        "#os.listdir(data_dir)\n",
        "#os.listdir(os.path.join(data_dir, 'planta_br')) vai exibir todas as imagens contidas nessa pasta\n",
        "#os.listdir(os.path.join(data_dir, 'planta_im')) vai exibir todas as imagens contidas nessa pasta"
      ],
      "metadata": {
        "id": "QDCnufKvlO8q"
      },
      "execution_count": null,
      "outputs": []
    },
    {
      "cell_type": "code",
      "source": [
        "#Verificando uma imagem com opencv e pyplot RODAR A CÉLULA SE QUISER VER COMO FUNCIONA\n",
        "img=cv2.imread(os.path.join('data', 'planta_br', '1.jpg'))\n",
        "#img.shape\n",
        "#plt.imshow(img)\n",
        "\n",
        "#cv2 lê os canais da imagem como BGR e pyplot espera RGB então modificamos isto com\n",
        "plt.imshow(cv2.cvtColor(img, cv2.COLOR_BGR2RGB))\n",
        "plt.show()"
      ],
      "metadata": {
        "id": "CJzGcEBWmrj0"
      },
      "execution_count": null,
      "outputs": []
    },
    {
      "cell_type": "code",
      "source": [
        "#lista das extensões que queremos que permaneçam\n",
        "valid_exts=['jpg','jpeg','png','bmp']\n",
        "for img_class in os.listdir(data_dir):\n",
        "  for img in os.listdir(os.path.join(data_dir,img_class)):\n",
        "    img_path=os.path.join(data_dir,img_class,img)\n",
        "    try:\n",
        "      img=cv2.imread(img_path)\n",
        "      ext=imghdr.what(img_path)\n",
        "      if ext not in valid_exts:\n",
        "        print(f'{img_path} has not a valid extension')\n",
        "        os.remove(img_path)\n",
        "    except Exception as e:\n",
        "      print(f'Issue with image {img_path}')\n",
        "# Voltar na pasta do computador e verificar a quantidade de imagens que restaram pois pode ser que\n",
        "#ou o dataset ficou muito desbalanceado ou muito pobre em imagens"
      ],
      "metadata": {
        "id": "aljgU9K_lRGS"
      },
      "execution_count": null,
      "outputs": []
    },
    {
      "cell_type": "markdown",
      "source": [
        "###CONSTRUINDO O PIPELINE DO TENSORFLOW  \n",
        "Tensor já vem com uma API pipeline.  \n",
        "Um pipeline de dados move os dados do ponto de coleta para o armazenamento, ou seja, extrai dados de uma fonte, faz alterações e os salva em um destino específico.  \n",
        "\n",
        "Os pipelines de dados permitem integrar dados de diferentes fontes e transformá-los para análise. Eles removem silos de dados e tornam sua análise de dados mais confiável e precisa. Aqui estão alguns dos principais benefícios de um pipeline de dados.\n",
        "\n",
        "#Melhor qualidade dos dados\n",
        "Os pipelines de dados limpam e refinam os dados brutos, melhorando sua utilidade para os usuários finais. Eles padronizam formatos para campos como datas e números de telefone enquanto verificam erros de entrada. Eles também removem a redundância e garantem a qualidade consistente dos dados em toda a organização.\n",
        "\n",
        "#Processamento eficiente de dados\n",
        "Os engenheiros de dados precisam realizar muitas tarefas repetitivas enquanto transformam e carregam dados. Os pipelines de dados permitem que eles automatizem tarefas de transformação de dados e se concentrem em encontrar os melhores insights de negócios. Os pipelines de dados também ajudam os engenheiros de dados a processar mais rapidamente os dados brutos que perdem valor com o tempo.\n",
        "\n",
        "#Integração de dados abrangente\n",
        "Um pipeline de dados abstrai funções de transformação de dados para integrar conjuntos de dados de fontes diferentes. Ele pode cruzar valores dos mesmos dados de várias fontes e corrigir inconsistências. Por exemplo, imagine que o mesmo cliente faz uma compra em sua plataforma de comércio eletrônico e em seu serviço digital. No entanto, eles escrevem seu nome incorretamente no serviço digital. O pipeline pode corrigir essa inconsistência antes de enviar os dados para análise.  \n",
        "\n",
        "Para uma consulta rápida"
      ],
      "metadata": {
        "id": "TIWCpOEro46B"
      }
    },
    {
      "cell_type": "code",
      "source": [
        "tf.data.Dataset??\n",
        "tf.keras.utils.image_dataset_from_directory??#apaga as ?? e coloca o nome da pasta ('data')\n",
        "#Não vamos precisar criar as labels, as classes e parte do preprocessamento (split, reshape, batch)\n",
        "#também o keras fará com o pipeline de dados"
      ],
      "metadata": {
        "id": "dxjIdL1no4JY"
      },
      "execution_count": null,
      "outputs": []
    },
    {
      "cell_type": "code",
      "source": [
        "#Pese a essa economia de esforço precisaremos iterar sobre as imagens uma a uma e para não ter de fazer isto manualmente\n",
        "#pois supomos que temos uma quantidade massiva de dados criamos o batch para fazer esse loop contínuo para nós em nosso arquivo\n",
        "#com os parametros do tf.keras.utils...\n",
        "data_iterator=data.as_numpy_iterator()\n",
        "batch=data_iterator.next()\n",
        "#Legal verificar que oo len(batch) tenha 2 valores de tupla, o primeiro indicando as images e o segundo as labels\n",
        "#todos como numpy arrays batch[0].shape (mostrará o numero de imagens or lote, pixels(tamanho) e canais(cor)\n",
        "#batch[1].shape - labels numeradas como 32 arrays de 0 e 1."
      ],
      "metadata": {
        "id": "8OuNMU1zutTQ"
      },
      "execution_count": null,
      "outputs": []
    },
    {
      "cell_type": "code",
      "source": [
        "#Para ter certeza de qual label ficou para cada classificador podemos iterar sobre uma parte de um lote:\n",
        "fig, ax =plt.subplots(ncols=4, figsize=(20,20))\n",
        "for idx, img in enumerate(batch[0][:4]):\n",
        "    ax[idx].imshow(img.astype(int))\n",
        "    ax[idx].title.set_text(batch[1][idx])"
      ],
      "metadata": {
        "id": "xPUnNO7Wvc9z"
      },
      "execution_count": null,
      "outputs": []
    },
    {
      "cell_type": "markdown",
      "source": [
        "###SCALING AND SPLITING  \n",
        "Para otimizar o treino do nosso modelo podemos mudar o canal de RGB para escala de cinza, ou só passar a faixa de valor ppara algo entre zero e 1. Isto se deve a que quanto menor o valor menos erros e menos tempo para uma DLM aprender.\n",
        "Imagens RGB são um array de 3 canais que vão de 0 - preto a 255 -branco = 256. Dividindo o batch[0]/255 nos retorna o que desejamos. Contudo, num pipeline não dá para fazer um loop (o inverso do pretendido com um pippeline), portanto, trabalharemos como a função MAP()"
      ],
      "metadata": {
        "id": "CG05qqf-zTld"
      }
    },
    {
      "cell_type": "code",
      "source": [
        "data= data.map(lambda x,y: (x/255, y))\n",
        "#Verificamos novamente as imagens e o shape delas sobre uma parte de um lote:\n",
        "fig, ax =plt.subplots(ncols=4, figsize=(20,20))\n",
        "for idx, img in enumerate(batch[0][:4]):\n",
        "    ax[idx].imshow(img)\n",
        "    ax[idx].title.set_text(batch[1][idx])"
      ],
      "metadata": {
        "id": "kU4zPJSM2BjB"
      },
      "execution_count": null,
      "outputs": []
    },
    {
      "cell_type": "markdown",
      "source": [
        "SPLITTING"
      ],
      "metadata": {
        "id": "EJcoPhcT58XD"
      }
    },
    {
      "cell_type": "code",
      "source": [
        "#Vamos correr um  len para saber com quantos batches ficamos\n",
        "len(data)\n",
        "\n"
      ],
      "metadata": {
        "id": "NTXPcMgf56kT"
      },
      "execution_count": null,
      "outputs": []
    },
    {
      "cell_type": "markdown",
      "source": [
        "OBS nossoos dados já estão misturados - classificadores 1 e 0 mistos num batch. Se isto não tiver feito agora é a hora de shuffle\n",
        "**For true randomness, we set the shuffle buffer to the full dataset size.\n",
        "ds = ds.shuffle(ds_info.splits['train'].num_examples)**\n",
        "Send ds o nome do dataset"
      ],
      "metadata": {
        "id": "-jvBA5KN_gNf"
      }
    },
    {
      "cell_type": "code",
      "source": [
        "#é importante verificarmos que temos 60% train 20% test 20% validation\n",
        "train_size = int(len(data)*.6) #+1 ou -1\n",
        "val_size = int(len(data)*.2)\n",
        "test_size = int(len(data)*.2)\n",
        "\n",
        "#é legal chamar cada um ara verificar se  len batch bate como o train batch e etc se não bater deve ajustar +1 ou -1"
      ],
      "metadata": {
        "id": "mo4qMD1f6J0A"
      },
      "execution_count": null,
      "outputs": []
    },
    {
      "cell_type": "code",
      "source": [
        "#take how many data we are taking in that particular partition\n",
        "#and skip méthod skip the batches we already allocated in our trainning partition and take next ones\n",
        "train =data.take(train_size)\n",
        "val =data.skip(train_size).take(val_size)\n",
        "test =data.skip(train_size+val_size).take(test_size)"
      ],
      "metadata": {
        "id": "p7TxsM-s9M8S"
      },
      "execution_count": null,
      "outputs": []
    },
    {
      "cell_type": "markdown",
      "source": [
        "#Building the model!!!"
      ],
      "metadata": {
        "id": "DhdfBVytBaMJ"
      }
    },
    {
      "cell_type": "code",
      "source": [
        "import tensorflow.keras as keras\n",
        "from tensorflow.keras.models import Sequential\n",
        "from tensorflow.keras.layers import Conv2D, MaxPooling2D, Dense, Flatten, Dropout"
      ],
      "metadata": {
        "id": "IebCEMInBiVr"
      },
      "execution_count": null,
      "outputs": []
    },
    {
      "cell_type": "code",
      "source": [
        "#Abaixo deixo o modelo da Facti mas é basicamente o mesmo com o código coonstruído diferente\n",
        "model_tf = Sequential()\n"
      ],
      "metadata": {
        "id": "FE_OFNPqCXTr"
      },
      "execution_count": null,
      "outputs": []
    },
    {
      "cell_type": "code",
      "source": [
        "model.add(Conv2D(16, (3, 3), 1, activation='relu', input_shape=(256, 256, 3)))\n",
        "# 16 filters with 3 by 3 pixels and 1 one stride- takes 1 pixel each time this can be modified, ex imagenet is different\n",
        "#relu means that any output below 0 will be converted to zero and positive values will be left untouched -\n",
        "#take on count non linear patterns\n",
        "\n",
        "model.add(MaxPooling2D((2, 2)))\n",
        "\n",
        "model.add(Conv2D(32, (3, 3), 1, activation='relu'))\n",
        "model.add(MaxPooling2D())\n",
        "\n",
        "model.add(Conv2D(16, (3, 3), 1, activation='relu'))\n",
        "model.add(MaxPooling2D())\n",
        "\n",
        "model.add(Flatten())\n",
        "\n",
        "model.add(Dense(256, activation='relu')) #dense= fully connected layers\n",
        "model.add(Dense(1, activation='sigmoid'))#single output representing 0 oor 1\n",
        "#model.add(Dense(10, activation='softmax')) TESTAR DEPOIS E VER SE HÁ DIFERENÇAS\n",
        "model.compile('adam', loss=tf.losses.BinaryCrossentropy(), metrics=['accuracy']\n",
        "#optimizer adam, binary cross entropy losses, metrics accuracy"
      ],
      "metadata": {
        "id": "6QDThU_CEFOH"
      },
      "execution_count": null,
      "outputs": []
    },
    {
      "cell_type": "code",
      "source": [
        "model.summary()"
      ],
      "metadata": {
        "id": "P9DJjWt4J3IB"
      },
      "execution_count": null,
      "outputs": []
    },
    {
      "cell_type": "markdown",
      "source": [
        "#Trainning"
      ],
      "metadata": {
        "id": "3z53jExZPmpb"
      }
    },
    {
      "cell_type": "code",
      "source": [
        "log_dir='logs'\n",
        "tensorboard_callback = tf.keras.callbacks.TensorBoard(log_dir=log_dir)\n",
        "hist = model.fit(train, epochs=10, validation_data=val, callbacks=[tensorboard_callback]) #ele usou 20 epochs eu 10 para teste\n",
        "#model fit - trainning component. You must loss reduce and accuracy get high\n",
        "#hist.history #para acessar o logs"
      ],
      "metadata": {
        "id": "K2-uSPXIJ6h8"
      },
      "execution_count": null,
      "outputs": []
    },
    {
      "cell_type": "markdown",
      "source": [
        "##Plot performance"
      ],
      "metadata": {
        "id": "ajksC_ZpQrTY"
      }
    },
    {
      "cell_type": "code",
      "source": [
        "hist = model.fit(train, epochs=10, validation_data=val, callbacks=[tensorboard_callback])#ease maybe should look at training data, is not learning or lot of bias, noise etc\n",
        "\n",
        "fig=plot_figure\n",
        "plt.plot(hist.history['loss'], color='magenta', label='loss')\n",
        "plt.plot(hist.history['val_loss'], color='blue', label='val_loss')\n",
        "fig.suptitle('Loss', fontsize=20)\n",
        "plt.legend(loc=\"upper left\")\n",
        "plt.show()\n",
        "#o grafuco deve descer consistentemente, se oramr uma parabola indicara que pode haver um overfitting or if\n",
        "#loss line dont increase maybe should look at training data, is not learning or lot of bias, noise etc\n",
        "\n",
        "fig=plot_figure\n",
        "plt.plot(hist.history['accuracy'], color='magenta', label='accuracy')\n",
        "plt.plot(hist.history['val_accuracy'], color='blue', label='val_accuracy')\n",
        "fig.suptitle('Accuracy', fontsize=20)\n",
        "plt.legend(loc=\"upper left\")\n",
        "plt.show()\n"
      ],
      "metadata": {
        "id": "BbAE_FbmQqXJ"
      },
      "execution_count": null,
      "outputs": []
    },
    {
      "cell_type": "markdown",
      "source": [
        "#Evaluate performance\n",
        "\n",
        "1.   from test\n",
        "\n"
      ],
      "metadata": {
        "id": "dol-YioDT8sx"
      }
    },
    {
      "cell_type": "code",
      "source": [
        "from tensorflow.keras.metrics import Precision, Recall, BinaryAccuracy\n",
        "pre=Precision()\n",
        "re=Recall()\n",
        "acc=BinaryAccuracy()\n",
        "\n",
        "for batch in test.as_numpy_iterator():\n",
        "  X, y=batch\n",
        "  yhat=model.predict(X)\n",
        "  pre.update_state(y, yhat)\n",
        "  re.update_state(y, yhat)\n",
        "  acc.update_state(y, yhat)"
      ],
      "metadata": {
        "id": "gUTNDFYcUADx"
      },
      "execution_count": null,
      "outputs": []
    },
    {
      "cell_type": "code",
      "source": [
        "print(f'Precision: {pre.result().numpy()}, \\n Recall:{re.result().numpy()} \\n , Accuracy:{acc.result().numpy()}')"
      ],
      "metadata": {
        "id": "FLWO7BmpVIYl"
      },
      "execution_count": null,
      "outputs": []
    },
    {
      "cell_type": "markdown",
      "source": [
        "#Test"
      ],
      "metadata": {
        "id": "J2x8yphLVnuB"
      }
    },
    {
      "cell_type": "code",
      "source": [
        "#Baixar uma imagem exclusiva, que o modelo não tenha visto antes\n",
        "#teste do teste\n",
        "\n",
        "img=cv2.imread('imagem.jpg')\n",
        "plt.imshow(cv2.cvtColor(img, cv2.COLOR_BGR2RGB))\n",
        "plt.show()\n",
        "\n",
        "tf.img.resize(img, (256,256))\n",
        "plt.imshow(resize.numpy().astype(int))\n",
        "plt.show()"
      ],
      "metadata": {
        "id": "dna7gm3fVkTX"
      },
      "execution_count": null,
      "outputs": []
    },
    {
      "cell_type": "code",
      "source": [
        "no.expand_dims(resize, 0)\n",
        "yhat=model_predict(np.expand_dims(resize/255, 0))\n",
        "#the neuralnet is waiting for us too uplooad a batch of img so we need to encapsulate it inside a arrays, set, nunmpy"
      ],
      "metadata": {
        "id": "pC_veDMJQNDA"
      },
      "execution_count": null,
      "outputs": []
    },
    {
      "cell_type": "code",
      "source": [
        "yhat\n",
        "if yhat>.5:\n",
        "  print(f'Predicted class is 1') #vamoos atualizar coonforme a classificação que obtivermos no inicio\n",
        "else:\n",
        "  print(f'Predicted class is 0')"
      ],
      "metadata": {
        "id": "jekMWcLTRTDU"
      },
      "execution_count": null,
      "outputs": []
    },
    {
      "cell_type": "markdown",
      "source": [
        "#SAVE THE MODEL\n",
        "fOR REUSE, DEPLOYMENT AS API OR TO EDGE DEVICE"
      ],
      "metadata": {
        "id": "ZoSsXJ3BRssM"
      }
    },
    {
      "cell_type": "code",
      "source": [
        "from tensorflow.keras.models import load_model\n",
        "model.save(os.path.join('models','brazilian_plantsmodel.h5')) #CRIAR A PASTA MODELS - formato serial h5 tipo um zip\n"
      ],
      "metadata": {
        "id": "cBEJDqukRwat"
      },
      "execution_count": null,
      "outputs": []
    },
    {
      "cell_type": "code",
      "source": [
        "#Reload the model and test again\n",
        "new_model=load_model(os.path.join('models','brazilian_plantsmodel.h5'))\n",
        "\n",
        "\n",
        "yhat_new=new_model.predict(np.expand_dims(resize/255, 0))\n",
        "if yhat_new>.5:\n",
        "  print(f'Predicted class is 1') #vamoos atualizar coonforme a classificação que obtivermos no inicio\n",
        "else:\n",
        "  print(f'Predicted class is 0')\n",
        "\n",
        "  #FIM"
      ],
      "metadata": {
        "id": "ZMqnZC7_S7IH"
      },
      "execution_count": null,
      "outputs": []
    },
    {
      "cell_type": "code",
      "source": [
        "# Carregar dados do MNIST - do meu sistema OS\n",
        "#(train_images, train_labels), (test_images, test_labels) = mnist.load_data()\n",
        "\n",
        "# Inspecionar a forma dos dados\n",
        "#print(\"Forma dos dados de treino:\", train_images.shape)\n",
        "#print(\"Forma dos dados de teste:\", test_images.shape)\n",
        "\n",
        "# Normalização\n",
        "#train_images = train_images / 255.0\n",
        "#test_images = test_images / 255.0\n",
        "\n",
        "# Remodelagem para adicionar o canal de cor\n",
        "#train_images = train_images.reshape((-1, 28, 28, 1))\n",
        "#test_images = test_images.reshape((-1, 28, 28, 1))\n"
      ],
      "metadata": {
        "id": "OwWA3tPIvFI1"
      },
      "execution_count": null,
      "outputs": []
    },
    {
      "cell_type": "markdown",
      "source": [
        "# **Construção de Modelo com TensorFlow**"
      ],
      "metadata": {
        "id": "cPaM5rK5lmGF"
      }
    },
    {
      "cell_type": "code",
      "source": [],
      "metadata": {
        "id": "GYFBnDVlZ3Cd"
      },
      "execution_count": null,
      "outputs": []
    },
    {
      "cell_type": "markdown",
      "source": [
        "## Desenvolvimento do Modelo"
      ],
      "metadata": {
        "id": "rwX_AsPnmaC-"
      }
    },
    {
      "cell_type": "code",
      "source": [
        "# Construção do modelo\n",
        "model_tf = tf.keras.models.Sequential([\n",
        "    tf.keras.layers.Conv2D(32, (3, 3), activation='relu', input_shape=(28, 28, 1)),\n",
        "    tf.keras.layers.MaxPooling2D((2, 2)),\n",
        "    tf.keras.layers.Flatten(),\n",
        "    tf.keras.layers.Dense(128, activation='relu'),\n",
        "    tf.keras.layers.Dense(10, activation='softmax')\n",
        "])\n",
        "\n",
        "# Compilação do modelo\n",
        "model_tf.compile(optimizer='adam',\n",
        "                 loss='sparse_categorical_crossentropy',\n",
        "                 metrics=['accuracy'])\n"
      ],
      "metadata": {
        "id": "YYSplG40lqWl",
        "outputId": "f29a921e-5e77-4fe5-da60-40f692e57415",
        "colab": {
          "base_uri": "https://localhost:8080/"
        }
      },
      "execution_count": null,
      "outputs": [
        {
          "output_type": "stream",
          "name": "stderr",
          "text": [
            "/usr/local/lib/python3.10/dist-packages/keras/src/layers/convolutional/base_conv.py:107: UserWarning: Do not pass an `input_shape`/`input_dim` argument to a layer. When using Sequential models, prefer using an `Input(shape)` object as the first layer in the model instead.\n",
            "  super().__init__(activity_regularizer=activity_regularizer, **kwargs)\n"
          ]
        }
      ]
    },
    {
      "cell_type": "markdown",
      "source": [
        "## Treinamento e Avaliação"
      ],
      "metadata": {
        "id": "5wiuG-Y0mfQi"
      }
    },
    {
      "cell_type": "code",
      "source": [
        "# Treinamento do modelo\n",
        "history_tf = model_tf.fit(train_images, train_labels, epochs=10, validation_split=0.2)\n",
        "\n",
        "# Avaliação do modelo\n",
        "test_loss, test_acc = model_tf.evaluate(test_images, test_labels)\n",
        "print(\"Acurácia TensorFlow: \", test_acc\n",
        "      )"
      ],
      "metadata": {
        "id": "JvLVYuz0mi8h",
        "colab": {
          "base_uri": "https://localhost:8080/"
        },
        "outputId": "08db38c2-d940-415f-92b2-ad74cf858828"
      },
      "execution_count": null,
      "outputs": [
        {
          "output_type": "stream",
          "name": "stdout",
          "text": [
            "Epoch 1/10\n",
            "\u001b[1m1500/1500\u001b[0m \u001b[32m━━━━━━━━━━━━━━━━━━━━\u001b[0m\u001b[37m\u001b[0m \u001b[1m34s\u001b[0m 22ms/step - accuracy: 0.8980 - loss: 0.3371 - val_accuracy: 0.9761 - val_loss: 0.0824\n",
            "Epoch 2/10\n",
            "\u001b[1m1500/1500\u001b[0m \u001b[32m━━━━━━━━━━━━━━━━━━━━\u001b[0m\u001b[37m\u001b[0m \u001b[1m33s\u001b[0m 22ms/step - accuracy: 0.9828 - loss: 0.0582 - val_accuracy: 0.9829 - val_loss: 0.0585\n",
            "Epoch 3/10\n",
            "\u001b[1m1500/1500\u001b[0m \u001b[32m━━━━━━━━━━━━━━━━━━━━\u001b[0m\u001b[37m\u001b[0m \u001b[1m39s\u001b[0m 20ms/step - accuracy: 0.9897 - loss: 0.0349 - val_accuracy: 0.9847 - val_loss: 0.0564\n",
            "Epoch 4/10\n",
            "\u001b[1m1500/1500\u001b[0m \u001b[32m━━━━━━━━━━━━━━━━━━━━\u001b[0m\u001b[37m\u001b[0m \u001b[1m33s\u001b[0m 22ms/step - accuracy: 0.9925 - loss: 0.0236 - val_accuracy: 0.9863 - val_loss: 0.0502\n",
            "Epoch 5/10\n",
            "\u001b[1m1500/1500\u001b[0m \u001b[32m━━━━━━━━━━━━━━━━━━━━\u001b[0m\u001b[37m\u001b[0m \u001b[1m32s\u001b[0m 21ms/step - accuracy: 0.9953 - loss: 0.0150 - val_accuracy: 0.9858 - val_loss: 0.0517\n",
            "Epoch 6/10\n",
            "\u001b[1m1500/1500\u001b[0m \u001b[32m━━━━━━━━━━━━━━━━━━━━\u001b[0m\u001b[37m\u001b[0m \u001b[1m41s\u001b[0m 21ms/step - accuracy: 0.9963 - loss: 0.0109 - val_accuracy: 0.9861 - val_loss: 0.0571\n",
            "Epoch 7/10\n",
            "\u001b[1m1500/1500\u001b[0m \u001b[32m━━━━━━━━━━━━━━━━━━━━\u001b[0m\u001b[37m\u001b[0m \u001b[1m42s\u001b[0m 22ms/step - accuracy: 0.9974 - loss: 0.0080 - val_accuracy: 0.9822 - val_loss: 0.0688\n",
            "Epoch 8/10\n",
            "\u001b[1m1500/1500\u001b[0m \u001b[32m━━━━━━━━━━━━━━━━━━━━\u001b[0m\u001b[37m\u001b[0m \u001b[1m32s\u001b[0m 21ms/step - accuracy: 0.9984 - loss: 0.0065 - val_accuracy: 0.9864 - val_loss: 0.0629\n",
            "Epoch 9/10\n",
            "\u001b[1m1500/1500\u001b[0m \u001b[32m━━━━━━━━━━━━━━━━━━━━\u001b[0m\u001b[37m\u001b[0m \u001b[1m40s\u001b[0m 20ms/step - accuracy: 0.9989 - loss: 0.0040 - val_accuracy: 0.9833 - val_loss: 0.0734\n",
            "Epoch 10/10\n",
            "\u001b[1m1500/1500\u001b[0m \u001b[32m━━━━━━━━━━━━━━━━━━━━\u001b[0m\u001b[37m\u001b[0m \u001b[1m31s\u001b[0m 20ms/step - accuracy: 0.9985 - loss: 0.0048 - val_accuracy: 0.9874 - val_loss: 0.0623\n",
            "\u001b[1m313/313\u001b[0m \u001b[32m━━━━━━━━━━━━━━━━━━━━\u001b[0m\u001b[37m\u001b[0m \u001b[1m2s\u001b[0m 5ms/step - accuracy: 0.9838 - loss: 0.0671\n",
            "Acurácia TensorFlow:  0.9872000217437744\n"
          ]
        }
      ]
    },
    {
      "cell_type": "markdown",
      "source": [
        "# **Métricas importantes**"
      ],
      "metadata": {
        "id": "d5RDcIDDlukz"
      }
    },
    {
      "cell_type": "code",
      "source": [
        "# Histórico de treinamento do TensorFlow\n",
        "acc_tf = history_tf.history['accuracy']\n",
        "val_acc_tf = history_tf.history['val_accuracy']\n",
        "loss_tf = history_tf.history['loss']\n",
        "val_loss_tf = history_tf.history['val_loss']\n",
        "\n",
        "print(\"Acurácia de Treinamento TensorFlow: \", acc_tf[-1])\n",
        "print(\"Acurácia de Validação TensorFlow: \", val_acc_tf[-1])\n",
        "print(\"Perda de Treinamento TensorFlow: \", loss_tf[-1])\n",
        "print(\"Perda de Validação TensorFlow: \", val_loss_tf[-1])\n"
      ],
      "metadata": {
        "colab": {
          "base_uri": "https://localhost:8080/"
        },
        "id": "8Fc0At7SfFCT",
        "outputId": "4dfb8873-eb05-42f2-de6b-0c9260f516cf"
      },
      "execution_count": null,
      "outputs": [
        {
          "output_type": "stream",
          "name": "stdout",
          "text": [
            "Acurácia de Treinamento TensorFlow:  0.9982500076293945\n",
            "Acurácia de Validação TensorFlow:  0.987416684627533\n",
            "Perda de Treinamento TensorFlow:  0.005132767371833324\n",
            "Perda de Validação TensorFlow:  0.062283679842948914\n"
          ]
        }
      ]
    },
    {
      "cell_type": "markdown",
      "source": [
        "# **Análise gráfica**"
      ],
      "metadata": {
        "id": "D0O8TDqFl8n8"
      }
    },
    {
      "cell_type": "markdown",
      "source": [
        "## Exibindo a acurácia ao longo treino/teste."
      ],
      "metadata": {
        "id": "tJ5Z0TUemGi5"
      }
    },
    {
      "cell_type": "code",
      "source": [
        "import matplotlib.pyplot as plt\n",
        "\n",
        "\n",
        "# TensorFlow - Acurácia e Perda\n",
        "plt.figure(figsize=(12, 5))\n",
        "\n",
        "plt.subplot(1, 2, 1)\n",
        "plt.plot(history_tf.history['accuracy'], label='Acurácia de Treino (TensorFlow)')\n",
        "plt.plot(history_tf.history['val_accuracy'], label='Acurácia de Validação (TensorFlow)')\n",
        "plt.title('Acurácia ao longo das Épocas (TensorFlow)')\n",
        "plt.xlabel('Épocas')\n",
        "plt.ylabel('Acurácia')\n",
        "plt.legend()\n",
        "\n",
        "plt.subplot(1, 2, 2)\n",
        "plt.plot(history_tf.history['loss'], label='Perda de Treino (TensorFlow)')\n",
        "plt.plot(history_tf.history['val_loss'], label='Perda de Validação (TensorFlow)')\n",
        "plt.title('Perda ao longo das Épocas (TensorFlow)')\n",
        "plt.xlabel('Épocas')\n",
        "plt.ylabel('Perda')\n",
        "plt.legend()\n",
        "\n",
        "plt.show()\n",
        "\n",
        "\n",
        "\n",
        "\n"
      ],
      "metadata": {
        "colab": {
          "base_uri": "https://localhost:8080/",
          "height": 460
        },
        "id": "3p8fxxEiePcn",
        "outputId": "49e0a749-a8e2-44e6-835c-ad9a02968ad3"
      },
      "execution_count": null,
      "outputs": [
        {
          "output_type": "display_data",
          "data": {
            "text/plain": [
              "<Figure size 1200x500 with 2 Axes>"
            ],
            "image/png": "[encoded data removed]"
          },
          "metadata": {}
        }
      ]
    },
    {
      "cell_type": "markdown",
      "source": [
        "## Exibindo a perda ao longo do treino/teste."
      ],
      "metadata": {
        "id": "d7UnhQCGmLp9"
      }
    },
    {
      "cell_type": "code",
      "source": [
        "import numpy as np\n",
        "import matplotlib.pyplot as plt\n",
        "import seaborn as sns\n",
        "from sklearn.metrics import confusion_matrix\n",
        "import tensorflow as tf\n",
        "\n",
        "# Previsões com o modelo TensorFlow\n",
        "predictions_tf = model_tf.predict(test_images)\n",
        "predicted_labels_tf = np.argmax(predictions_tf, axis=1)\n",
        "\n",
        "# Matriz de confusão\n",
        "conf_matrix_tf = confusion_matrix(test_labels, predicted_labels_tf)\n",
        "\n",
        "# Visualização com Seaborn\n",
        "plt.figure(figsize=(10, 8))\n",
        "sns.heatmap(conf_matrix_tf, annot=True, fmt='g', cmap='Blues')\n",
        "plt.xlabel('Etiquetas Previstas')\n",
        "plt.ylabel('Etiquetas Verdadeiras')\n",
        "plt.title('Matriz de Confusão para o Modelo TensorFlow')\n",
        "plt.show()\n"
      ],
      "metadata": {
        "colab": {
          "base_uri": "https://localhost:8080/",
          "height": 735
        },
        "id": "N9AG1An8e4I2",
        "outputId": "0bacabc1-51f6-4694-b07c-11e8b5e79911"
      },
      "execution_count": null,
      "outputs": [
        {
          "output_type": "stream",
          "name": "stdout",
          "text": [
            "313/313 [==============================] - 4s 13ms/step\n"
          ]
        },
        {
          "output_type": "display_data",
          "data": {
            "text/plain": [
              "<Figure size 1000x800 with 2 Axes>"
            ],
            "image/png": "[encoded data removed]"
          },
          "metadata": {}
        }
      ]
    }
  ],
  "metadata": {
    "colab": {
      "provenance": [],
      "include_colab_link": true
    },
    "kernelspec": {
      "display_name": "Python 3",
      "name": "python3"
    },
    "language_info": {
      "name": "python"
    }
  },
  "nbformat": 4,
  "nbformat_minor": 0
}